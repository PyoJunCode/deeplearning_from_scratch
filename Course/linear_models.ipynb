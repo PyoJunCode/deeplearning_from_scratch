{
 "cells": [
  {
   "cell_type": "code",
   "execution_count": 307,
   "metadata": {
    "colab": {
     "base_uri": "https://localhost:8080/"
    },
    "id": "mq2U3jlEzhgM",
    "outputId": "f158bd07-abbd-4e0e-c6cb-d0091ef3ee67"
   },
   "outputs": [
    {
     "name": "stdout",
     "output_type": "stream",
     "text": [
      "Requirement already satisfied: mglearn in /usr/local/lib/python3.6/dist-packages (0.1.9)\n",
      "Requirement already satisfied: matplotlib in /usr/local/lib/python3.6/dist-packages (from mglearn) (3.2.2)\n",
      "Requirement already satisfied: imageio in /usr/local/lib/python3.6/dist-packages (from mglearn) (2.4.1)\n",
      "Requirement already satisfied: pandas in /usr/local/lib/python3.6/dist-packages (from mglearn) (1.1.2)\n",
      "Requirement already satisfied: joblib in /usr/local/lib/python3.6/dist-packages (from mglearn) (0.16.0)\n",
      "Requirement already satisfied: pillow in /usr/local/lib/python3.6/dist-packages (from mglearn) (7.0.0)\n",
      "Requirement already satisfied: scikit-learn in /usr/local/lib/python3.6/dist-packages (from mglearn) (0.22.2.post1)\n",
      "Requirement already satisfied: cycler in /usr/local/lib/python3.6/dist-packages (from mglearn) (0.10.0)\n",
      "Requirement already satisfied: numpy in /usr/local/lib/python3.6/dist-packages (from mglearn) (1.18.5)\n",
      "Requirement already satisfied: kiwisolver>=1.0.1 in /usr/local/lib/python3.6/dist-packages (from matplotlib->mglearn) (1.2.0)\n",
      "Requirement already satisfied: pyparsing!=2.0.4,!=2.1.2,!=2.1.6,>=2.0.1 in /usr/local/lib/python3.6/dist-packages (from matplotlib->mglearn) (2.4.7)\n",
      "Requirement already satisfied: python-dateutil>=2.1 in /usr/local/lib/python3.6/dist-packages (from matplotlib->mglearn) (2.8.1)\n",
      "Requirement already satisfied: pytz>=2017.2 in /usr/local/lib/python3.6/dist-packages (from pandas->mglearn) (2018.9)\n",
      "Requirement already satisfied: scipy>=0.17.0 in /usr/local/lib/python3.6/dist-packages (from scikit-learn->mglearn) (1.4.1)\n",
      "Requirement already satisfied: six in /usr/local/lib/python3.6/dist-packages (from cycler->mglearn) (1.15.0)\n"
     ]
    }
   ],
   "source": [
    "import random\n",
    "import numpy as np\n",
    "import sklearn as sk\n",
    "import matplotlib.pyplot as plt\n",
    "\n",
    "!pip install mglearn\n",
    "import mglearn"
   ]
  },
  {
   "cell_type": "markdown",
   "metadata": {
    "id": "R8xBOFkal5mc"
   },
   "source": [
    "## Logistic Regression"
   ]
  },
  {
   "cell_type": "markdown",
   "metadata": {
    "id": "UzyJaNAgeLmV"
   },
   "source": [
    "TO DO: define two functions GetClass1(X) and GetClass2(X)\n",
    "\n",
    "* GetClass1(X) returns (X * 0.5 + np.abs(np.sin(X * np.pi / 180)) * 180 + np.random.normal(0, 30, len(X)))\n",
    "* GetClass2(X) returns (X * 0.5 + 50 - np.abs(np.cos(X * np.pi / 180)) * 180 + np.random.normal(0, 30, len(X)))\n"
   ]
  },
  {
   "cell_type": "code",
   "execution_count": 308,
   "metadata": {
    "id": "hZTqwAY2QFRH"
   },
   "outputs": [],
   "source": [
    "def GetClass1(X):\n",
    "  return X * 0.5 + np.abs(np.sin(X * np.pi / 180)) * 180 + np.random.normal(0, 30, len(X))\n",
    "def GetClass2(X):\n",
    "  return X * 0.5 + 50 - np.abs(np.cos(X * np.pi / 180)) * 180 + np.random.normal(0, 30, len(X))"
   ]
  },
  {
   "cell_type": "markdown",
   "metadata": {
    "id": "r3HMkcy1edaD"
   },
   "source": [
    "TO DO:\n",
    "* Set random seed by 12 using np.random.seed()\n",
    "* Create an array composed of 100 numbers from 0 to 360\n",
    "* Draw plot using X and GetClass1(X)\n",
    "* Draw plot using X and GetClass2(X)"
   ]
  },
  {
   "cell_type": "code",
   "execution_count": 309,
   "metadata": {
    "colab": {
     "base_uri": "https://localhost:8080/",
     "height": 265
    },
    "id": "WalPXBHg0r9q",
    "outputId": "73501114-bc1c-4579-fbfa-db35c88d9b5e"
   },
   "outputs": [
    {
     "data": {
      "image/png": "[encoded data removed]",
      "text/plain": [
       "<Figure size 432x288 with 1 Axes>"
      ]
     },
     "metadata": {
      "needs_background": "light",
      "tags": []
     },
     "output_type": "display_data"
    }
   ],
   "source": [
    "np.random.seed(12)\n",
    "X = np.linspace(0,360,100)\n",
    "plt.plot(X,GetClass1(X))\n",
    "plt.plot(X,GetClass2(X))\n",
    "plt.show()"
   ]
  },
  {
   "cell_type": "markdown",
   "metadata": {
    "id": "1jyoWlHDfSgE"
   },
   "source": [
    "TO DO: Create class 1 samples\n",
    "* Create an array $x_{11}$ composed of 50 random numbers between 0 and 360.\n",
    "* Create an array $x_{12}$ by GetClass1($x_{11}$).\n",
    "* Create an array $y_1$ of size 50 filled with zeros.\n",
    "* Combine $x_{11}$, $x_{12}$ and $y_1$ to make a 50x3 array $d_1$. (Use np.expand_dims() and np.concatenate().)\n",
    "* print the first 10 rows of $d_1$"
   ]
  },
  {
   "cell_type": "code",
   "execution_count": 310,
   "metadata": {
    "colab": {
     "base_uri": "https://localhost:8080/"
    },
    "id": "mcDUtreZ2Wz1",
    "outputId": "42572816-63da-4be9-f286-ef81f8cf5ab0"
   },
   "outputs": [
    {
     "name": "stdout",
     "output_type": "stream",
     "text": [
      "d1 =  [[ 13.658839    56.07105357   0.        ]\n",
      " [ 55.80406329 141.87970265   0.        ]\n",
      " [ 61.43364224  98.32685969   0.        ]\n",
      " [277.312394   335.01132799   0.        ]\n",
      " [ 86.11147478 232.58314643   0.        ]\n",
      " [268.9812314  282.27771924   0.        ]\n",
      " [125.09790647 248.50314149   0.        ]\n",
      " [238.03681255 269.16267577   0.        ]\n",
      " [235.63943994 252.1114025    0.        ]\n",
      " [ 83.87133944 191.99547334   0.        ]]\n"
     ]
    }
   ],
   "source": [
    "x_oneone = 360 * np.random.random(50)\n",
    "x_onetwo = GetClass1(x_oneone)\n",
    "y_one = np.zeros(50)\n",
    "d1 = np.concatenate((np.expand_dims(x_oneone,axis = 1),np.expand_dims(x_onetwo,axis = 1),np.expand_dims(y_one,axis=1)), axis=1) #50x3 shape\n",
    "print('d1 = ',d1[:10])"
   ]
  },
  {
   "cell_type": "markdown",
   "metadata": {
    "id": "PAouMCjwg9yR"
   },
   "source": [
    "TO DO: Create class 2 samples\n",
    "* Create an array $x_{21}$ composed of 50 random numbers between 0 and 360.\n",
    "* Create an array $x_{22}$ by GetClass2($x_{21}$).\n",
    "* Create an array $y_2$ of size 50 filled with ones.\n",
    "* Combine $x_{21}$, $x_{22}$ and $y_2$ to make a 50x3 array $d_2$. (Use np.expand_dims() and np.concatenate().)\n",
    "* print the first 10 rows of $d_2$"
   ]
  },
  {
   "cell_type": "code",
   "execution_count": 311,
   "metadata": {
    "colab": {
     "base_uri": "https://localhost:8080/"
    },
    "id": "iBKqAxf5fZT6",
    "outputId": "58c839a6-4c45-4ae5-9a0e-44911abcba02"
   },
   "outputs": [
    {
     "name": "stdout",
     "output_type": "stream",
     "text": [
      "d2 =  [[202.11365676  -4.40781031   1.        ]\n",
      " [ 37.11143784 -80.78783649   1.        ]\n",
      " [112.07735169  22.29304467   1.        ]\n",
      " [290.47736536 158.97892151   1.        ]\n",
      " [174.97262355 -53.99433601   1.        ]\n",
      " [344.06435284  17.82628423   1.        ]\n",
      " [257.24052307 158.03712683   1.        ]\n",
      " [ 41.48832038 -68.78765653   1.        ]\n",
      " [161.23024625 -29.87055773   1.        ]\n",
      " [189.63701275 -23.00935382   1.        ]]\n"
     ]
    }
   ],
   "source": [
    "x_twoone = 360 * np.random.random(50)\n",
    "x_twotwo = GetClass2(x_twoone)\n",
    "y_two = np.ones(50)\n",
    "d2 = np.concatenate((np.expand_dims(x_twoone,axis = 1),np.expand_dims(x_twotwo,axis = 1),np.expand_dims(y_two,axis=1)), axis=1)\n",
    "print('d2 = ',d2[:10])"
   ]
  },
  {
   "cell_type": "markdown",
   "metadata": {
    "id": "_B6ieV5oh12-"
   },
   "source": [
    "TO DO: Make X and y from $d_1$ and $d_2$.\n",
    "* Combine $d_1$ and $d_2$ to make a 100x3 array $d$.\n",
    "* Shuffle the row of $d$ using np.random.shuffle().\n",
    "* Create a 100x2 array $X$ by the first two columns of $d$.\n",
    "* Create a single rank array $y$ by the last column of $d$.\n",
    "* Print the first 10 rows of X\n",
    "* Print the first 10 elements of y"
   ]
  },
  {
   "cell_type": "code",
   "execution_count": 312,
   "metadata": {
    "colab": {
     "base_uri": "https://localhost:8080/"
    },
    "id": "Ak16o66f_v4c",
    "outputId": "e97c0f7a-d1f9-4e30-bf0e-586af10f6fb0"
   },
   "outputs": [
    {
     "name": "stdout",
     "output_type": "stream",
     "text": [
      "X =  [[  4.99052932  21.19180388]\n",
      " [335.28798028  72.71503033]\n",
      " [ 19.18211324 -82.4172931 ]\n",
      " [151.5509172  196.14291664]\n",
      " [125.09790647 248.50314149]\n",
      " [257.24052307 158.03712683]\n",
      " [170.46121082 -59.66050965]\n",
      " [305.52197828 104.65034349]\n",
      " [277.312394   335.01132799]\n",
      " [ 59.68092879 -28.41599808]]\n",
      "y =  [0. 1. 1. 0. 0. 1. 1. 1. 0. 1.]\n"
     ]
    }
   ],
   "source": [
    "d = np.concatenate((d1,d2),axis = 0)\n",
    "np.random.shuffle(d)\n",
    "X = d[:,0:2]\n",
    "y = d[:,2]\n",
    "print('X = ', X[:10])\n",
    "print('y = ', y[:10])"
   ]
  },
  {
   "cell_type": "markdown",
   "metadata": {
    "id": "KuSV1_MmjVoh"
   },
   "source": [
    "TO DO: Draw scatter chart using mglearn.discrete_scatter()"
   ]
  },
  {
   "cell_type": "code",
   "execution_count": 313,
   "metadata": {
    "colab": {
     "base_uri": "https://localhost:8080/",
     "height": 299
    },
    "id": "3xaellZh2f1G",
    "outputId": "23ebe5c9-374b-44e1-c1c8-f964141e9e31"
   },
   "outputs": [
    {
     "data": {
      "text/plain": [
       "[<matplotlib.lines.Line2D at 0x7f22e7ddec18>,\n",
       " <matplotlib.lines.Line2D at 0x7f22e7dded30>]"
      ]
     },
     "execution_count": 313,
     "metadata": {
      "tags": []
     },
     "output_type": "execute_result"
    },
    {
     "data": {
      "image/png": "[encoded data removed]",
      "text/plain": [
       "<Figure size 432x288 with 1 Axes>"
      ]
     },
     "metadata": {
      "needs_background": "light",
      "tags": []
     },
     "output_type": "display_data"
    }
   ],
   "source": [
    "mglearn.discrete_scatter(X[:,0],X[:,1],y)"
   ]
  },
  {
   "cell_type": "markdown",
   "metadata": {
    "id": "DbAVABpskiaJ"
   },
   "source": [
    "TO DO: split X and y into a training set and a test set using train_test_split()"
   ]
  },
  {
   "cell_type": "code",
   "execution_count": 318,
   "metadata": {
    "id": "0cfer07ekAcA"
   },
   "outputs": [],
   "source": [
    "from sklearn.model_selection import train_test_split\n",
    "X_train, X_test, y_train, y_test = train_test_split(X, y, random_state=42)"
   ]
  },
  {
   "cell_type": "markdown",
   "metadata": {
    "id": "OVZ4KmGSj4RL"
   },
   "source": [
    "TO DO: Create a LogisticRegression object and train with the training samples"
   ]
  },
  {
   "cell_type": "code",
   "execution_count": 319,
   "metadata": {
    "id": "OSz-YBj4_Ehk"
   },
   "outputs": [],
   "source": [
    "from sklearn.linear_model import LogisticRegression\n",
    "lr = LogisticRegression().fit(X_train,y_train)"
   ]
  },
  {
   "cell_type": "markdown",
   "metadata": {
    "id": "HpYHq2gTkxSB"
   },
   "source": [
    "TO DO: Compare the predicted values with the ground truth values.\n",
    "\n",
    "\n",
    "\n",
    "* Predict y of the test input samples (e.g., X_test) using the LogisticRegression object\n",
    "* Compare the predicted values and the groud truth values as the output example."
   ]
  },
  {
   "cell_type": "code",
   "execution_count": 320,
   "metadata": {
    "colab": {
     "base_uri": "https://localhost:8080/"
    },
    "id": "swAjmTb6Y_JP",
    "outputId": "ec0e3e46-3634-4b8d-9317-c6b94801aa1c"
   },
   "outputs": [
    {
     "name": "stdout",
     "output_type": "stream",
     "text": [
      "1.0 vs 1.0 ( match= True )\n",
      "0.0 vs 0.0 ( match= True )\n",
      "0.0 vs 0.0 ( match= True )\n",
      "1.0 vs 1.0 ( match= True )\n",
      "1.0 vs 1.0 ( match= True )\n",
      "0.0 vs 0.0 ( match= True )\n",
      "1.0 vs 1.0 ( match= True )\n",
      "1.0 vs 0.0 ( match= False )\n",
      "1.0 vs 1.0 ( match= True )\n",
      "1.0 vs 0.0 ( match= False )\n",
      "1.0 vs 0.0 ( match= False )\n",
      "0.0 vs 0.0 ( match= True )\n",
      "0.0 vs 0.0 ( match= True )\n",
      "1.0 vs 1.0 ( match= True )\n",
      "1.0 vs 1.0 ( match= True )\n",
      "0.0 vs 0.0 ( match= True )\n",
      "1.0 vs 0.0 ( match= False )\n",
      "0.0 vs 0.0 ( match= True )\n",
      "0.0 vs 0.0 ( match= True )\n",
      "0.0 vs 0.0 ( match= True )\n",
      "1.0 vs 1.0 ( match= True )\n",
      "0.0 vs 0.0 ( match= True )\n",
      "0.0 vs 0.0 ( match= True )\n",
      "0.0 vs 0.0 ( match= True )\n",
      "1.0 vs 1.0 ( match= True )\n"
     ]
    }
   ],
   "source": [
    "result = lr.predict(X_test)\n",
    "for i in range(0,len(result)):\n",
    "  print(result[i],'vs',y_test[i], '( match=', result[i]==y_test[i],')')"
   ]
  },
  {
   "cell_type": "markdown",
   "metadata": {
    "id": "Ji92TUZjlhDq"
   },
   "source": [
    "TO DO: Print the training accuracy and test accuracy"
   ]
  },
  {
   "cell_type": "code",
   "execution_count": 321,
   "metadata": {
    "colab": {
     "base_uri": "https://localhost:8080/"
    },
    "id": "0Au_uU9lksSr",
    "outputId": "cd4d13eb-9bc6-4d57-c34e-3017dbae4d97"
   },
   "outputs": [
    {
     "name": "stdout",
     "output_type": "stream",
     "text": [
      "training accuracy =  0.9466666666666667\n",
      "test accuracy =  0.84\n"
     ]
    }
   ],
   "source": [
    "print('training accuracy = ',lr.score(X_train,y_train))\n",
    "print('test accuracy = ',lr.score(X_test,y_test))"
   ]
  },
  {
   "cell_type": "markdown",
   "metadata": {
    "id": "MOz9-pZ4kdWN"
   },
   "source": [
    "### Ridge regression"
   ]
  },
  {
   "cell_type": "markdown",
   "metadata": {
    "id": "n5A7iVEll-Mr"
   },
   "source": [
    "TO DO: Create input and output samples\n",
    "* Create a 100x1 array $X$ composed of 100 numbers from 0 to 100.\n",
    "* Create a 1D array $y$ from the 1st column of $X$ using the following formula: $y = (x-30)^2+100 + \\epsilon$, where $\\epsilon \\in N(0, 100^2)$.\n",
    "* Draw graph with X and y using plt.plot()"
   ]
  },
  {
   "cell_type": "code",
   "execution_count": 322,
   "metadata": {
    "colab": {
     "base_uri": "https://localhost:8080/",
     "height": 265
    },
    "id": "QZkwQgRkZUXR",
    "outputId": "96740108-8e15-4758-be12-dd74e1afda40"
   },
   "outputs": [
    {
     "data": {
      "image/png": "[encoded data removed]",
      "text/plain": [
       "<Figure size 432x288 with 1 Axes>"
      ]
     },
     "metadata": {
      "needs_background": "light",
      "tags": []
     },
     "output_type": "display_data"
    }
   ],
   "source": [
    "X = np.linspace(0,100,100).reshape((100,1))\n",
    "eps= np.random.normal(0,100,100).reshape((100,1)) #reshape for adding \n",
    "y = np.square(X-30) + 100 + eps\n",
    "plt.plot(X,y)\n",
    "plt.show()"
   ]
  },
  {
   "cell_type": "markdown",
   "metadata": {
    "id": "Zf1bmT3VnMgR"
   },
   "source": [
    "TO DO: Create an object of Ridge and train it with $X$ and $y$."
   ]
  },
  {
   "cell_type": "code",
   "execution_count": 323,
   "metadata": {
    "id": "3ek2rkohcSmf"
   },
   "outputs": [],
   "source": [
    "from sklearn.linear_model import Ridge\n",
    "rr = Ridge().fit(X,y)"
   ]
  },
  {
   "cell_type": "markdown",
   "metadata": {
    "id": "BARkjVwtnX74"
   },
   "source": [
    "TO DO: Plot $X$, $y$ and the prediction of Ridge from $X$."
   ]
  },
  {
   "cell_type": "code",
   "execution_count": 324,
   "metadata": {
    "colab": {
     "base_uri": "https://localhost:8080/",
     "height": 265
    },
    "id": "ifFs-LgZdpXz",
    "outputId": "32688f4d-1cdb-42f1-cf8a-b3e10c9fd8a3"
   },
   "outputs": [
    {
     "data": {
      "image/png": "[encoded data removed]",
      "text/plain": [
       "<Figure size 432x288 with 1 Axes>"
      ]
     },
     "metadata": {
      "needs_background": "light",
      "tags": []
     },
     "output_type": "display_data"
    }
   ],
   "source": [
    "plt.plot(X,y)\n",
    "plt.plot(rr.predict(X))\n",
    "plt.show()"
   ]
  },
  {
   "cell_type": "markdown",
   "metadata": {
    "id": "G_EZtzSgr5pp"
   },
   "source": [
    "### Polynomial regression"
   ]
  },
  {
   "cell_type": "markdown",
   "metadata": {
    "id": "FmyVaZUkp92O"
   },
   "source": [
    "TO DO: Create a 100x2 array $X_2$ derived from $X$.\n",
    "* The first column is the same as $X$.\n",
    "* The second column is composed of $X[i,0]^2$'s.\n",
    "* Print the first 10 rows of $X_2$."
   ]
  },
  {
   "cell_type": "code",
   "execution_count": 325,
   "metadata": {
    "colab": {
     "base_uri": "https://localhost:8080/"
    },
    "id": "wR9Jy6nbpCUl",
    "outputId": "02e40fbb-abaa-4950-a164-c022a6813ad5"
   },
   "outputs": [
    {
     "name": "stdout",
     "output_type": "stream",
     "text": [
      "[[ 0.          0.        ]\n",
      " [ 1.01010101  1.02030405]\n",
      " [ 2.02020202  4.0812162 ]\n",
      " [ 3.03030303  9.18273646]\n",
      " [ 4.04040404 16.32486481]\n",
      " [ 5.05050505 25.50760127]\n",
      " [ 6.06060606 36.73094582]\n",
      " [ 7.07070707 49.99489848]\n",
      " [ 8.08080808 65.29945924]\n",
      " [ 9.09090909 82.6446281 ]]\n"
     ]
    }
   ],
   "source": [
    "X2 = np.concatenate((X,np.square(X)),axis = 1)\n",
    "print(X2[:10])"
   ]
  },
  {
   "cell_type": "markdown",
   "metadata": {
    "id": "bS5vwWnKqlqY"
   },
   "source": [
    "To DO: Create another Ridge object and training it with $X_2$ and $y$"
   ]
  },
  {
   "cell_type": "code",
   "execution_count": 326,
   "metadata": {
    "id": "x5bAnuU8pbPy"
   },
   "outputs": [],
   "source": [
    "arr = Ridge().fit(X2,y)"
   ]
  },
  {
   "cell_type": "markdown",
   "metadata": {
    "id": "XuvOrBphrc7f"
   },
   "source": [
    "TO DO: Plot $X_2[:,0]$, $y$ and the prediction of Ridge from $X_2$."
   ]
  },
  {
   "cell_type": "code",
   "execution_count": 327,
   "metadata": {
    "colab": {
     "base_uri": "https://localhost:8080/",
     "height": 282
    },
    "id": "D6cXMMaWpwPa",
    "outputId": "b81cd413-28fe-4c08-e451-eb9b00c65739"
   },
   "outputs": [
    {
     "data": {
      "text/plain": [
       "[<matplotlib.lines.Line2D at 0x7f22e7dace10>]"
      ]
     },
     "execution_count": 327,
     "metadata": {
      "tags": []
     },
     "output_type": "execute_result"
    },
    {
     "data": {
      "image/png": "[encoded data removed]",
      "text/plain": [
       "<Figure size 432x288 with 1 Axes>"
      ]
     },
     "metadata": {
      "needs_background": "light",
      "tags": []
     },
     "output_type": "display_data"
    }
   ],
   "source": [
    "plt.plot(X2[:,0],y)\n",
    "plt.plot(arr.predict(X2))"
   ]
  },
  {
   "cell_type": "code",
   "execution_count": 301,
   "metadata": {
    "id": "rbSWhfUqp43c"
   },
   "outputs": [],
   "source": []
  }
 ],
 "metadata": {
  "colab": {
   "collapsed_sections": [],
   "name": "HW_2_linear_models.ipynb",
   "provenance": []
  },
  "kernelspec": {
   "display_name": "Python 3",
   "language": "python",
   "name": "python3"
  },
  "language_info": {
   "codemirror_mode": {
    "name": "ipython",
    "version": 3
   },
   "file_extension": ".py",
   "mimetype": "text/x-python",
   "name": "python",
   "nbconvert_exporter": "python",
   "pygments_lexer": "ipython3",
   "version": "3.9.2"
  }
 },
 "nbformat": 4,
 "nbformat_minor": 1
}
