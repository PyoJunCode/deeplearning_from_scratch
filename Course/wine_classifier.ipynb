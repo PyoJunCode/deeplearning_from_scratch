{
  "nbformat": 4,
  "nbformat_minor": 0,
  "metadata": {
    "colab": {
      "name": "HW_3_linear_classifiers.ipynb",
      "provenance": [],
      "collapsed_sections": []
    },
    "kernelspec": {
      "name": "python3",
      "display_name": "Python 3"
    }
  },
  "cells": [
    {
      "cell_type": "code",
      "metadata": {
        "id": "zRMDSYJzIVoN"
      },
      "source": [
        "import numpy as np\n",
        "import sklearn as sk\n",
        "from sklearn.model_selection import train_test_split"
      ],
      "execution_count": 3,
      "outputs": []
    },
    {
      "cell_type": "markdown",
      "metadata": {
        "id": "pKzPfWGw_uJb"
      },
      "source": [
        "TO DO: import load_wine from sklearn.datasets\n",
        " Then, create an instance __dataset__ by calling load_wine()"
      ]
    },
    {
      "cell_type": "code",
      "metadata": {
        "id": "38JjqKgiLVkb"
      },
      "source": [
        "from sklearn.datasets import load_wine\n",
        "dataset = load_wine()"
      ],
      "execution_count": 5,
      "outputs": []
    },
    {
      "cell_type": "markdown",
      "metadata": {
        "id": "xNg7UCY3_-Vq"
      },
      "source": [
        "**TO** DO: Display dataset.keys() and the elements of dataset."
      ]
    },
    {
      "cell_type": "code",
      "metadata": {
        "id": "X3r1_VXrLdbp",
        "outputId": "8dab5230-f53f-41db-bc01-e0d07739359c",
        "colab": {
          "base_uri": "https://localhost:8080/",
          "height": 34
        }
      },
      "source": [
        "print(dataset.keys())\n"
      ],
      "execution_count": 15,
      "outputs": [
        {
          "output_type": "stream",
          "text": [
            "dict_keys(['data', 'target', 'target_names', 'DESCR', 'feature_names'])\n"
          ],
          "name": "stdout"
        }
      ]
    },
    {
      "cell_type": "code",
      "metadata": {
        "id": "TPvRsK5dLq6I",
        "outputId": "4780c2a7-e394-4d10-f9a3-b85222aab7b0",
        "colab": {
          "base_uri": "https://localhost:8080/",
          "height": 1000
        }
      },
      "source": [
        "print(dataset.DESCR)"
      ],
      "execution_count": 14,
      "outputs": [
        {
          "output_type": "stream",
          "text": [
            ".. _wine_dataset:\n",
            "\n",
            "Wine recognition dataset\n",
            "------------------------\n",
            "\n",
            "**Data Set Characteristics:**\n",
            "\n",
            "    :Number of Instances: 178 (50 in each of three classes)\n",
            "    :Number of Attributes: 13 numeric, predictive attributes and the class\n",
            "    :Attribute Information:\n",
            " \t\t- Alcohol\n",
            " \t\t- Malic acid\n",
            " \t\t- Ash\n",
            "\t\t- Alcalinity of ash  \n",
            " \t\t- Magnesium\n",
            "\t\t- Total phenols\n",
            " \t\t- Flavanoids\n",
            " \t\t- Nonflavanoid phenols\n",
            " \t\t- Proanthocyanins\n",
            "\t\t- Color intensity\n",
            " \t\t- Hue\n",
            " \t\t- OD280/OD315 of diluted wines\n",
            " \t\t- Proline\n",
            "\n",
            "    - class:\n",
            "            - class_0\n",
            "            - class_1\n",
            "            - class_2\n",
            "\t\t\n",
            "    :Summary Statistics:\n",
            "    \n",
            "    ============================= ==== ===== ======= =====\n",
            "                                   Min   Max   Mean     SD\n",
            "    ============================= ==== ===== ======= =====\n",
            "    Alcohol:                      11.0  14.8    13.0   0.8\n",
            "    Malic Acid:                   0.74  5.80    2.34  1.12\n",
            "    Ash:                          1.36  3.23    2.36  0.27\n",
            "    Alcalinity of Ash:            10.6  30.0    19.5   3.3\n",
            "    Magnesium:                    70.0 162.0    99.7  14.3\n",
            "    Total Phenols:                0.98  3.88    2.29  0.63\n",
            "    Flavanoids:                   0.34  5.08    2.03  1.00\n",
            "    Nonflavanoid Phenols:         0.13  0.66    0.36  0.12\n",
            "    Proanthocyanins:              0.41  3.58    1.59  0.57\n",
            "    Colour Intensity:              1.3  13.0     5.1   2.3\n",
            "    Hue:                          0.48  1.71    0.96  0.23\n",
            "    OD280/OD315 of diluted wines: 1.27  4.00    2.61  0.71\n",
            "    Proline:                       278  1680     746   315\n",
            "    ============================= ==== ===== ======= =====\n",
            "\n",
            "    :Missing Attribute Values: None\n",
            "    :Class Distribution: class_0 (59), class_1 (71), class_2 (48)\n",
            "    :Creator: R.A. Fisher\n",
            "    :Donor: Michael Marshall (MARSHALL%PLU@io.arc.nasa.gov)\n",
            "    :Date: July, 1988\n",
            "\n",
            "This is a copy of UCI ML Wine recognition datasets.\n",
            "https://archive.ics.uci.edu/ml/machine-learning-databases/wine/wine.data\n",
            "\n",
            "The data is the results of a chemical analysis of wines grown in the same\n",
            "region in Italy by three different cultivators. There are thirteen different\n",
            "measurements taken for different constituents found in the three types of\n",
            "wine.\n",
            "\n",
            "Original Owners: \n",
            "\n",
            "Forina, M. et al, PARVUS - \n",
            "An Extendible Package for Data Exploration, Classification and Correlation. \n",
            "Institute of Pharmaceutical and Food Analysis and Technologies,\n",
            "Via Brigata Salerno, 16147 Genoa, Italy.\n",
            "\n",
            "Citation:\n",
            "\n",
            "Lichman, M. (2013). UCI Machine Learning Repository\n",
            "[https://archive.ics.uci.edu/ml]. Irvine, CA: University of California,\n",
            "School of Information and Computer Science. \n",
            "\n",
            ".. topic:: References\n",
            "\n",
            "  (1) S. Aeberhard, D. Coomans and O. de Vel, \n",
            "  Comparison of Classifiers in High Dimensional Settings, \n",
            "  Tech. Rep. no. 92-02, (1992), Dept. of Computer Science and Dept. of  \n",
            "  Mathematics and Statistics, James Cook University of North Queensland. \n",
            "  (Also submitted to Technometrics). \n",
            "\n",
            "  The data was used with many others for comparing various \n",
            "  classifiers. The classes are separable, though only RDA \n",
            "  has achieved 100% correct classification. \n",
            "  (RDA : 100%, QDA 99.4%, LDA 98.9%, 1NN 96.1% (z-transformed data)) \n",
            "  (All results using the leave-one-out technique) \n",
            "\n",
            "  (2) S. Aeberhard, D. Coomans and O. de Vel, \n",
            "  \"THE CLASSIFICATION PERFORMANCE OF RDA\" \n",
            "  Tech. Rep. no. 92-01, (1992), Dept. of Computer Science and Dept. of \n",
            "  Mathematics and Statistics, James Cook University of North Queensland. \n",
            "  (Also submitted to Journal of Chemometrics).\n",
            "\n"
          ],
          "name": "stdout"
        }
      ]
    },
    {
      "cell_type": "code",
      "metadata": {
        "id": "wkMdM690lc5E",
        "outputId": "e5b1013d-fc7d-49a0-a0ab-0c37a981082a",
        "colab": {
          "base_uri": "https://localhost:8080/",
          "height": 54
        }
      },
      "source": [
        "print(dataset.feature_names)"
      ],
      "execution_count": 11,
      "outputs": [
        {
          "output_type": "stream",
          "text": [
            "['alcohol', 'malic_acid', 'ash', 'alcalinity_of_ash', 'magnesium', 'total_phenols', 'flavanoids', 'nonflavanoid_phenols', 'proanthocyanins', 'color_intensity', 'hue', 'od280/od315_of_diluted_wines', 'proline']\n"
          ],
          "name": "stdout"
        }
      ]
    },
    {
      "cell_type": "code",
      "metadata": {
        "id": "hTYBz8xhLwUA",
        "outputId": "c5755e01-dadb-4c11-bb37-e16991bd2147",
        "colab": {
          "base_uri": "https://localhost:8080/",
          "height": 136
        }
      },
      "source": [
        "print(dataset.data)"
      ],
      "execution_count": 10,
      "outputs": [
        {
          "output_type": "stream",
          "text": [
            "[[1.423e+01 1.710e+00 2.430e+00 ... 1.040e+00 3.920e+00 1.065e+03]\n",
            " [1.320e+01 1.780e+00 2.140e+00 ... 1.050e+00 3.400e+00 1.050e+03]\n",
            " [1.316e+01 2.360e+00 2.670e+00 ... 1.030e+00 3.170e+00 1.185e+03]\n",
            " ...\n",
            " [1.327e+01 4.280e+00 2.260e+00 ... 5.900e-01 1.560e+00 8.350e+02]\n",
            " [1.317e+01 2.590e+00 2.370e+00 ... 6.000e-01 1.620e+00 8.400e+02]\n",
            " [1.413e+01 4.100e+00 2.740e+00 ... 6.100e-01 1.600e+00 5.600e+02]]\n"
          ],
          "name": "stdout"
        }
      ]
    },
    {
      "cell_type": "code",
      "metadata": {
        "id": "dsoGDcRGlZGV",
        "outputId": "ce2d5706-e3f2-4639-fd0d-dcacd5f54ac5",
        "colab": {
          "base_uri": "https://localhost:8080/",
          "height": 34
        }
      },
      "source": [
        "print(dataset.target_names)"
      ],
      "execution_count": 12,
      "outputs": [
        {
          "output_type": "stream",
          "text": [
            "['class_0' 'class_1' 'class_2']\n"
          ],
          "name": "stdout"
        }
      ]
    },
    {
      "cell_type": "code",
      "metadata": {
        "id": "xoz5_O0RL8cO",
        "outputId": "c0b09e63-7320-432a-eba8-e9062433a1ba",
        "colab": {
          "base_uri": "https://localhost:8080/",
          "height": 102
        }
      },
      "source": [
        "print(dataset.target)"
      ],
      "execution_count": 13,
      "outputs": [
        {
          "output_type": "stream",
          "text": [
            "[0 0 0 0 0 0 0 0 0 0 0 0 0 0 0 0 0 0 0 0 0 0 0 0 0 0 0 0 0 0 0 0 0 0 0 0 0\n",
            " 0 0 0 0 0 0 0 0 0 0 0 0 0 0 0 0 0 0 0 0 0 0 1 1 1 1 1 1 1 1 1 1 1 1 1 1 1\n",
            " 1 1 1 1 1 1 1 1 1 1 1 1 1 1 1 1 1 1 1 1 1 1 1 1 1 1 1 1 1 1 1 1 1 1 1 1 1\n",
            " 1 1 1 1 1 1 1 1 1 1 1 1 1 1 1 1 1 1 1 2 2 2 2 2 2 2 2 2 2 2 2 2 2 2 2 2 2\n",
            " 2 2 2 2 2 2 2 2 2 2 2 2 2 2 2 2 2 2 2 2 2 2 2 2 2 2 2 2 2 2]\n"
          ],
          "name": "stdout"
        }
      ]
    },
    {
      "cell_type": "markdown",
      "metadata": {
        "id": "2CbXJoepATMI"
      },
      "source": [
        "TO DO: Split dataset into train and test sets, and print the shape of X_train, y_train, X_test and y_test"
      ]
    },
    {
      "cell_type": "code",
      "metadata": {
        "id": "WXswUsplL-vJ",
        "outputId": "0d12d26e-be57-4713-b525-917ddf1b7096",
        "colab": {
          "base_uri": "https://localhost:8080/",
          "height": 85
        }
      },
      "source": [
        "from sklearn.model_selection import train_test_split\n",
        "X_train, X_test, y_train, y_test = train_test_split(dataset.data, dataset.target,random_state=0)\n",
        "print('X_train.shape = ',X_train.shape)\n",
        "print('y_train.shape = ',y_train.shape)\n",
        "print('X_test.shape = ',X_test.shape)\n",
        "print('y_train.shape = ',y_test.shape)"
      ],
      "execution_count": 49,
      "outputs": [
        {
          "output_type": "stream",
          "text": [
            "X_train.shape =  (133, 13)\n",
            "y_train.shape =  (133,)\n",
            "X_test.shape =  (45, 13)\n",
            "y_train.shape =  (45,)\n"
          ],
          "name": "stdout"
        }
      ]
    },
    {
      "cell_type": "markdown",
      "metadata": {
        "id": "lX1xxXFyDUMa"
      },
      "source": [
        "TO DO: Build a classifier for the wine dataset using LogisicRegression, and print the accuracy on the training and test data.\n"
      ]
    },
    {
      "cell_type": "code",
      "metadata": {
        "id": "u9sTOX_f1RTl",
        "outputId": "a3f2f72c-6dfe-433a-bc33-ff5529189825",
        "colab": {
          "base_uri": "https://localhost:8080/",
          "height": 207
        }
      },
      "source": [
        "from sklearn.linear_model import LogisticRegression\n",
        "lr = LogisticRegression().fit(X_train,y_train)\n",
        "print(\"train score =\",lr.score(X_train, y_train))\n",
        "print(\"test score: =\",lr.score(X_test, y_test)) "
      ],
      "execution_count": 50,
      "outputs": [
        {
          "output_type": "stream",
          "text": [
            "train score = 0.9924812030075187\n",
            "test score: = 0.9333333333333333\n"
          ],
          "name": "stdout"
        },
        {
          "output_type": "stream",
          "text": [
            "/usr/local/lib/python3.6/dist-packages/sklearn/linear_model/_logistic.py:940: ConvergenceWarning: lbfgs failed to converge (status=1):\n",
            "STOP: TOTAL NO. of ITERATIONS REACHED LIMIT.\n",
            "\n",
            "Increase the number of iterations (max_iter) or scale the data as shown in:\n",
            "    https://scikit-learn.org/stable/modules/preprocessing.html\n",
            "Please also refer to the documentation for alternative solver options:\n",
            "    https://scikit-learn.org/stable/modules/linear_model.html#logistic-regression\n",
            "  extra_warning_msg=_LOGISTIC_SOLVER_CONVERGENCE_MSG)\n"
          ],
          "name": "stderr"
        }
      ]
    },
    {
      "cell_type": "markdown",
      "metadata": {
        "id": "RJiONBoRD58c"
      },
      "source": [
        "TO DO: Save the weight matrix and bias vector of the LogisticRegression instance as W_lr and b_lr. Then, print them."
      ]
    },
    {
      "cell_type": "code",
      "metadata": {
        "id": "Qh1T4ZYv5RL4",
        "outputId": "76ad5c4c-c43b-4f8d-827d-554407b90de1",
        "colab": {
          "base_uri": "https://localhost:8080/",
          "height": 238
        }
      },
      "source": [
        "W_lr = lr.coef_\n",
        "b_lr = lr.intercept_\n",
        "print('W_lr = ',W_lr)\n",
        "print('b_lr = ',b_lr)"
      ],
      "execution_count": 51,
      "outputs": [
        {
          "output_type": "stream",
          "text": [
            "W_lr =  [[-1.32186429e-01  3.23965050e-01  1.84092284e-01 -2.58932260e-01\n",
            "  -3.55944236e-02  2.38697315e-01  5.82114322e-01 -2.22946486e-02\n",
            "   9.92276027e-02  1.09948852e-01 -1.73973402e-02  4.10341111e-01\n",
            "   8.36031752e-03]\n",
            " [ 5.99095455e-01 -7.17070268e-01 -2.00230225e-01  2.11071050e-01\n",
            "  -1.04352065e-02  2.06746427e-01  3.95799510e-01  1.36191938e-02\n",
            "   3.85959371e-01 -1.24982865e+00  2.65765529e-01  4.38399876e-01\n",
            "  -8.01466640e-03]\n",
            " [-4.66909026e-01  3.93105218e-01  1.61379407e-02  4.78612099e-02\n",
            "   4.60296301e-02 -4.45443742e-01 -9.77913832e-01  8.67545481e-03\n",
            "  -4.85186974e-01  1.13987979e+00 -2.48368189e-01 -8.48740987e-01\n",
            "  -3.45651121e-04]]\n",
            "b_lr =  [-0.04937168  0.10908187 -0.05971019]\n"
          ],
          "name": "stdout"
        }
      ]
    },
    {
      "cell_type": "markdown",
      "metadata": {
        "id": "alKUm1U8Edmz"
      },
      "source": [
        "TO DO: Build a classifier for the wine dataset using LinearSVC, and print the accuracy on the training and test data."
      ]
    },
    {
      "cell_type": "code",
      "metadata": {
        "id": "Yyl-vVDQmD1N",
        "outputId": "a01c52e6-0e79-4682-bb55-ea472a06a078",
        "colab": {
          "base_uri": "https://localhost:8080/",
          "height": 105
        }
      },
      "source": [
        "from sklearn.svm import LinearSVC\n",
        "svc = LinearSVC().fit(X_train,y_train)\n",
        "print('train score = ',svc.score(X_train,y_train))\n",
        "print('test score = ',svc.score(X_test,y_test))\n"
      ],
      "execution_count": 53,
      "outputs": [
        {
          "output_type": "stream",
          "text": [
            "train score =  0.7518796992481203\n",
            "test score =  0.8444444444444444\n"
          ],
          "name": "stdout"
        },
        {
          "output_type": "stream",
          "text": [
            "/usr/local/lib/python3.6/dist-packages/sklearn/svm/_base.py:947: ConvergenceWarning: Liblinear failed to converge, increase the number of iterations.\n",
            "  \"the number of iterations.\", ConvergenceWarning)\n"
          ],
          "name": "stderr"
        }
      ]
    },
    {
      "cell_type": "markdown",
      "metadata": {
        "id": "xoUZ6HwWE35T"
      },
      "source": [
        "TO DO: Save the weight matrix and bias vector of the LinearSVC instance as W_svc and b_svc. Then, print them."
      ]
    },
    {
      "cell_type": "code",
      "metadata": {
        "id": "JxPkuSWsuoiV",
        "outputId": "45d5ddbc-f9a1-4023-c66b-c7fe1d8b12bb",
        "colab": {
          "base_uri": "https://localhost:8080/",
          "height": 238
        }
      },
      "source": [
        "W_svc = svc.coef_\n",
        "b_svc = svc.intercept_\n",
        "print('W_svc = ',W_svc)\n",
        "print('b_svc = ',b_svc)"
      ],
      "execution_count": 54,
      "outputs": [
        {
          "output_type": "stream",
          "text": [
            "W_svc =  [[-2.51905404e-02 -1.68063024e-03 -7.48813024e-04 -1.02000228e-01\n",
            "  -1.02680908e-02  1.02932596e-02  3.06351143e-02 -3.84655904e-03\n",
            "   7.15768285e-03 -1.78027213e-02 -8.02613228e-04  1.71451236e-02\n",
            "   3.82421988e-03]\n",
            " [ 4.64890910e-02 -8.01446165e-02 -6.30351889e-03  3.14999151e-02\n",
            "   4.23634057e-03  4.40154827e-02  7.64294941e-02  8.08954023e-05\n",
            "   4.51244463e-02 -1.99169098e-01  3.20955581e-02  8.82171828e-02\n",
            "  -4.13843552e-04]\n",
            " [-4.52984553e-02  8.16593166e-02  1.08410558e-03  8.41228721e-03\n",
            "  -1.24735111e-03 -6.17953349e-02 -1.25134493e-01  2.66681781e-03\n",
            "  -5.53302456e-02  2.15898598e-01 -3.29587169e-02 -1.15483889e-01\n",
            "  -1.06441285e-03]]\n",
            "b_svc =  [-0.00381304  0.00920053 -0.00679594]\n"
          ],
          "name": "stdout"
        }
      ]
    },
    {
      "cell_type": "markdown",
      "metadata": {
        "id": "fZk0kiO0Aiop"
      },
      "source": [
        "TO DO: Define a class __SimpleLinearClassifier__ composed of the following functions:\n",
        "\n",
        "* __\\_\\_init\\_\\___(self, weight, bias) - takes a weight matrix and a bias vector as input and stores them in instance variables\n",
        "\n",
        "* __predict(self, X)__ - takes an array of rank 2 as input, and returns the classification results as an array of rank 1\n",
        "\n",
        "* __probability(self, X)__ - takes an array of rank 2 as input and returns the probabilities that each sample belongs to each class as an array of rank 2. (You need to implement the softmax function to convert logits into probabilities.)\n",
        "\n",
        "* __score(self, X, y)__ - takes an input data (rank 2) and a target vector (rank 1) as input, and returns the accuracy as a scalar value.\n",
        "\n",
        "\n",
        "The __SimpleLinearClassifier__ should work as the following examples."
      ]
    },
    {
      "cell_type": "code",
      "metadata": {
        "id": "pDnCF1mjvFJA"
      },
      "source": [
        "# Define SimpleLienarClassfier here.\n",
        "class SimpleLinearClassifier:\n",
        "  def __init__(self,weight,bias):\n",
        "    self.weight = weight\n",
        "    self.bias = bias\n",
        "\n",
        "  def probability(self,X):\n",
        "    #y = X.T.dot(self.weight)+np.expand_dims(self.bias,0)[45,13] x [13,3]\n",
        "    y= X.dot(self.weight.T)+np.expand_dims(self.bias,0)\n",
        "    #softmax\n",
        "    exp_y=np.exp(y-np.max(y))\n",
        "    #print(exp_y.shape)\n",
        "    sum = np.sum(exp_y,axis=1) #각 column들의 합 = Class별\n",
        "    #print(sum.shape)\n",
        "    #print(np.expand_dims(sum,axis=1).shape)\n",
        "    return (exp_y/np.expand_dims(sum,axis=1))\n",
        "\n",
        "  def predict(self,X):\n",
        "    prob = self.probability(X)\n",
        "    #highest values of column\n",
        "    return np.argmax(prob,axis=1)\n",
        "\n",
        "  def score(self, X, y):\n",
        "    hats = self.predict(X)\n",
        "    answer = y[hats==y]\n",
        "    return len(answer)/len(y)\n",
        "  \n"
      ],
      "execution_count": 233,
      "outputs": []
    },
    {
      "cell_type": "markdown",
      "metadata": {
        "id": "IuSYy99-FOAa"
      },
      "source": [
        "TO DO: Create a SimpleLinearClassfier instance simple_lr using W_lr and b_lr. Then, print the accuracy on the training and test data.<br>\n",
        "(The accuracies should be the same as those of the LogisticRegression instance.)"
      ]
    },
    {
      "cell_type": "code",
      "metadata": {
        "id": "MJFs7pAg6IOY",
        "outputId": "732586a4-ddbc-4dc3-8ff1-53fc47bf4e91",
        "colab": {
          "base_uri": "https://localhost:8080/",
          "height": 51
        }
      },
      "source": [
        "simple_lr = SimpleLinearClassifier(W_lr,b_lr)\n",
        "print('train score =',simple_lr.score(X_train,y_train))\n",
        "print('test score =',simple_lr.score(X_test,y_test))"
      ],
      "execution_count": 235,
      "outputs": [
        {
          "output_type": "stream",
          "text": [
            "train score = 0.9924812030075187\n",
            "test score = 0.9333333333333333\n"
          ],
          "name": "stdout"
        }
      ]
    },
    {
      "cell_type": "markdown",
      "metadata": {
        "id": "bhi2Zmx3FaPx"
      },
      "source": [
        "TO DO: Display the results of simple_lr.predict(X_test) along with y_test."
      ]
    },
    {
      "cell_type": "code",
      "metadata": {
        "id": "2laJOWR1GnmO",
        "outputId": "9f4b17d5-2a7d-4c1d-dc1b-cf85eac5db52",
        "colab": {
          "base_uri": "https://localhost:8080/",
          "height": 85
        }
      },
      "source": [
        "print('y_hat = ',simple_lr.predict(X_test))\n",
        "print('y_test =',y_test)"
      ],
      "execution_count": 185,
      "outputs": [
        {
          "output_type": "stream",
          "text": [
            "y_hat =  [0 2 1 0 1 1 0 2 1 1 2 2 0 1 2 1 0 0 2 0 1 0 1 1 1 1 1 1 1 2 0 0 1 0 0 0 2\n",
            " 1 1 2 1 0 1 1 1]\n",
            "y_test = [0 2 1 0 1 1 0 2 1 1 2 2 0 1 2 1 0 0 1 0 1 0 0 1 1 1 1 1 1 2 0 0 1 0 0 0 2\n",
            " 1 1 2 0 0 1 1 1]\n"
          ],
          "name": "stdout"
        }
      ]
    },
    {
      "cell_type": "markdown",
      "metadata": {
        "id": "BfSGdKXfKAwJ"
      },
      "source": [
        "TO DO: Display the result of simple_lr.probability(X_test).\n",
        "Then, check whether the sum of each row makes one."
      ]
    },
    {
      "cell_type": "code",
      "metadata": {
        "id": "cFMpwp9IHSeH",
        "outputId": "19b1d603-36de-4913-85be-17a4c152e896",
        "colab": {
          "base_uri": "https://localhost:8080/",
          "height": 816
        }
      },
      "source": [
        "prob = simple_lr.probability(X_test)\n",
        "print('prob =',prob)\n",
        "print('The sum of rows = ',np.sum(prob,axis=1))"
      ],
      "execution_count": 221,
      "outputs": [
        {
          "output_type": "stream",
          "text": [
            "prob = [[9.91523974e-01 1.06809396e-03 7.40793157e-03]\n",
            " [3.77327532e-06 1.30747729e-07 9.99996096e-01]\n",
            " [3.44245206e-03 9.96346395e-01 2.11152743e-04]\n",
            " [9.84160185e-01 1.48380428e-03 1.43560112e-02]\n",
            " [3.47198262e-03 9.96246866e-01 2.81151540e-04]\n",
            " [3.24070085e-03 9.92522269e-01 4.23702975e-03]\n",
            " [9.98974254e-01 8.79461736e-05 9.37799443e-04]\n",
            " [9.33756528e-04 9.70685064e-05 9.98969175e-01]\n",
            " [7.45239054e-03 9.91861675e-01 6.85934882e-04]\n",
            " [1.77271256e-03 9.97704602e-01 5.22685383e-04]\n",
            " [8.96380394e-02 1.14086635e-02 8.98953297e-01]\n",
            " [2.34976560e-03 2.79276387e-02 9.69722596e-01]\n",
            " [9.99918361e-01 3.14178153e-07 8.13251425e-05]\n",
            " [1.98520006e-01 8.00879300e-01 6.00693636e-04]\n",
            " [3.52047348e-04 1.71638882e-05 9.99630789e-01]\n",
            " [2.14401123e-05 9.99974013e-01 4.54707456e-06]\n",
            " [9.88633382e-01 7.01422817e-04 1.06651955e-02]\n",
            " [9.99961126e-01 9.20343542e-10 3.88732006e-05]\n",
            " [8.16704638e-03 1.12844947e-01 8.78988007e-01]\n",
            " [9.99869347e-01 5.27342750e-05 7.79184901e-05]\n",
            " [1.18290976e-01 8.81018904e-01 6.90119562e-04]\n",
            " [9.94392087e-01 3.44935863e-03 2.15855428e-03]\n",
            " [2.07414515e-01 7.55193122e-01 3.73923624e-02]\n",
            " [1.94639571e-02 9.80212270e-01 3.23772406e-04]\n",
            " [1.07751319e-01 7.24642471e-01 1.67606210e-01]\n",
            " [3.78945715e-05 9.99951144e-01 1.09617796e-05]\n",
            " [3.20635503e-04 9.99599242e-01 8.01223690e-05]\n",
            " [1.91276710e-04 9.99552481e-01 2.56242489e-04]\n",
            " [9.64174744e-02 7.39841661e-01 1.63740864e-01]\n",
            " [1.31114037e-04 3.48019486e-06 9.99865406e-01]\n",
            " [9.99785525e-01 1.30045516e-04 8.44292521e-05]\n",
            " [9.87939816e-01 3.18735705e-03 8.87282661e-03]\n",
            " [3.89804360e-02 9.53118746e-01 7.90081777e-03]\n",
            " [9.94250149e-01 4.95657185e-04 5.25419401e-03]\n",
            " [9.98062914e-01 1.69035459e-03 2.46731449e-04]\n",
            " [9.61686644e-01 3.44021345e-02 3.91122141e-03]\n",
            " [5.92062020e-03 2.57860959e-03 9.91500770e-01]\n",
            " [9.42561593e-04 9.97889216e-01 1.16822269e-03]\n",
            " [1.05542635e-03 9.98393747e-01 5.50826873e-04]\n",
            " [1.67354415e-03 5.40514892e-05 9.98272404e-01]\n",
            " [3.36366096e-01 6.63093753e-01 5.40151036e-04]\n",
            " [9.98871505e-01 4.65049896e-04 6.63445372e-04]\n",
            " [1.43545697e-04 9.99846498e-01 9.95587894e-06]\n",
            " [2.25411270e-03 9.97284662e-01 4.61225520e-04]\n",
            " [3.66429611e-04 9.99267980e-01 3.65590529e-04]]\n",
            "The sum of rows =  [1. 1. 1. 1. 1. 1. 1. 1. 1. 1. 1. 1. 1. 1. 1. 1. 1. 1. 1. 1. 1. 1. 1. 1.\n",
            " 1. 1. 1. 1. 1. 1. 1. 1. 1. 1. 1. 1. 1. 1. 1. 1. 1. 1. 1. 1. 1.]\n"
          ],
          "name": "stdout"
        }
      ]
    },
    {
      "cell_type": "markdown",
      "metadata": {
        "id": "9FfCL3TlKWoQ"
      },
      "source": [
        "TO DO: Print the accuracy on the training and test data."
      ]
    },
    {
      "cell_type": "code",
      "metadata": {
        "id": "mpI7u0MTHXgN",
        "outputId": "4c397cfa-c33d-435b-89f9-e37b6c8c1818",
        "colab": {
          "base_uri": "https://localhost:8080/",
          "height": 51
        }
      },
      "source": [
        "\n",
        "print('train score =',simple_lr.score(X_train,y_train))\n",
        "print('test score =',simple_lr.score(X_test,y_test))"
      ],
      "execution_count": 236,
      "outputs": [
        {
          "output_type": "stream",
          "text": [
            "train score = 0.9924812030075187\n",
            "test score = 0.9333333333333333\n"
          ],
          "name": "stdout"
        }
      ]
    },
    {
      "cell_type": "markdown",
      "metadata": {
        "id": "mQTnq0KhGwf5"
      },
      "source": [
        "TO DO: Create a SimpleLinearClassfier instance simple_svc using W_svc and b_svc. Then, print the accuracy on the training and test data.<br>\n",
        "(The accuracies should be the same as those of the LinearSVC instance.)"
      ]
    },
    {
      "cell_type": "code",
      "metadata": {
        "id": "dyhGFRmS-6gc",
        "outputId": "68839ef8-5d93-4ad1-b438-521226021197",
        "colab": {
          "base_uri": "https://localhost:8080/",
          "height": 51
        }
      },
      "source": [
        "simple_svc = SimpleLinearClassifier(W_svc,b_svc)\n",
        "print('train score =',simple_svc.score(X_train,y_train))\n",
        "print('test score =',simple_svc.score(X_test,y_test))"
      ],
      "execution_count": 237,
      "outputs": [
        {
          "output_type": "stream",
          "text": [
            "train score = 0.7518796992481203\n",
            "test score = 0.8444444444444444\n"
          ],
          "name": "stdout"
        }
      ]
    },
    {
      "cell_type": "markdown",
      "metadata": {
        "id": "TiX8oew5KlbY"
      },
      "source": [
        "TO DO: Display the results of simple_svc.predict(X_test) along with y_test."
      ]
    },
    {
      "cell_type": "code",
      "metadata": {
        "id": "j2PSAoU4yTEZ",
        "outputId": "7e09f448-e758-4885-eda3-6895344d4b8a",
        "colab": {
          "base_uri": "https://localhost:8080/",
          "height": 85
        }
      },
      "source": [
        "print('predicted = ', simple_svc.predict(X_test))\n",
        "print('y_test = ',y_test)"
      ],
      "execution_count": 240,
      "outputs": [
        {
          "output_type": "stream",
          "text": [
            "predicted =  [0 2 1 0 1 1 0 2 1 1 1 1 0 1 2 1 0 0 1 0 1 0 1 1 1 1 1 1 1 2 0 1 1 0 0 1 1\n",
            " 1 1 2 1 0 1 1 1]\n",
            "y_test =  [0 2 1 0 1 1 0 2 1 1 2 2 0 1 2 1 0 0 1 0 1 0 0 1 1 1 1 1 1 2 0 0 1 0 0 0 2\n",
            " 1 1 2 0 0 1 1 1]\n"
          ],
          "name": "stdout"
        }
      ]
    },
    {
      "cell_type": "markdown",
      "metadata": {
        "id": "VykOf3HbLAYZ"
      },
      "source": [
        "TO DO: Display the result of simple_svc.probability(X_test).\n",
        "Then, check whether the sum of each row makes one."
      ]
    },
    {
      "cell_type": "code",
      "metadata": {
        "id": "Ad_Z4IP7FV6p",
        "outputId": "e46d4635-7532-4d44-c3ad-7f54f071eb45",
        "colab": {
          "base_uri": "https://localhost:8080/",
          "height": 816
        }
      },
      "source": [
        "prob = simple_svc.probability(X_test)\n",
        "print('prob =',prob)\n",
        "print('The sum of rows = ',np.sum(prob,axis=1))"
      ],
      "execution_count": 239,
      "outputs": [
        {
          "output_type": "stream",
          "text": [
            "prob = [[0.53293397 0.41192871 0.05513733]\n",
            " [0.0393981  0.18678317 0.77381873]\n",
            " [0.06313196 0.83833979 0.09852825]\n",
            " [0.48266953 0.45601657 0.0613139 ]\n",
            " [0.04048104 0.85363099 0.10588797]\n",
            " [0.01898321 0.88345737 0.09755942]\n",
            " [0.69831842 0.27792827 0.02375331]\n",
            " [0.08957327 0.35100437 0.55942236]\n",
            " [0.09552024 0.80580966 0.0986701 ]\n",
            " [0.08395637 0.82188882 0.09415481]\n",
            " [0.25722654 0.5132085  0.22956496]\n",
            " [0.06934112 0.49849737 0.43216151]\n",
            " [0.89385111 0.09347783 0.01267106]\n",
            " [0.16504683 0.76483735 0.07011582]\n",
            " [0.12609925 0.3851616  0.48873916]\n",
            " [0.02868094 0.90334997 0.06796909]\n",
            " [0.55356628 0.41060228 0.03583144]\n",
            " [0.96186813 0.03105956 0.00707232]\n",
            " [0.09610799 0.60996405 0.29392797]\n",
            " [0.76326632 0.21454474 0.02218894]\n",
            " [0.16086376 0.72506163 0.11407461]\n",
            " [0.56593995 0.39496929 0.03909076]\n",
            " [0.12064504 0.798698   0.08065696]\n",
            " [0.12659954 0.81236561 0.06103485]\n",
            " [0.20333638 0.68925327 0.10741034]\n",
            " [0.02698513 0.9043995  0.06861537]\n",
            " [0.03490521 0.86699924 0.09809555]\n",
            " [0.04560221 0.87582059 0.07857719]\n",
            " [0.10899274 0.76154523 0.12946204]\n",
            " [0.09675213 0.24515456 0.65809331]\n",
            " [0.72730753 0.2491831  0.02350936]\n",
            " [0.44216808 0.48634603 0.07148589]\n",
            " [0.09618824 0.78994442 0.11386734]\n",
            " [0.50616735 0.43050901 0.06332363]\n",
            " [0.6252998  0.33793633 0.03676387]\n",
            " [0.34535412 0.59165558 0.06299029]\n",
            " [0.15215249 0.54652282 0.30132468]\n",
            " [0.07254745 0.81422373 0.11322883]\n",
            " [0.04458118 0.8567047  0.09871412]\n",
            " [0.15665247 0.41929829 0.42404924]\n",
            " [0.21389049 0.74233191 0.0437776 ]\n",
            " [0.61921189 0.34903843 0.03174968]\n",
            " [0.03449959 0.89381498 0.07168543]\n",
            " [0.09953117 0.82518767 0.07528116]\n",
            " [0.04863772 0.86062284 0.09073943]]\n",
            "The sum of rows =  [1. 1. 1. 1. 1. 1. 1. 1. 1. 1. 1. 1. 1. 1. 1. 1. 1. 1. 1. 1. 1. 1. 1. 1.\n",
            " 1. 1. 1. 1. 1. 1. 1. 1. 1. 1. 1. 1. 1. 1. 1. 1. 1. 1. 1. 1. 1.]\n"
          ],
          "name": "stdout"
        }
      ]
    },
    {
      "cell_type": "markdown",
      "metadata": {
        "id": "8tkrI3OVKcvI"
      },
      "source": [
        "TO DO: Print the accuracy on the training and test data."
      ]
    },
    {
      "cell_type": "code",
      "metadata": {
        "id": "7cZqFbAHyfqH",
        "outputId": "176d7f4e-cab4-415a-d0ee-e21b7460aaf4",
        "colab": {
          "base_uri": "https://localhost:8080/",
          "height": 51
        }
      },
      "source": [
        "print('train score =',simple_svc.score(X_train,y_train))\n",
        "print('test score =',simple_svc.score(X_test,y_test))"
      ],
      "execution_count": 238,
      "outputs": [
        {
          "output_type": "stream",
          "text": [
            "train score = 0.7518796992481203\n",
            "test score = 0.8444444444444444\n"
          ],
          "name": "stdout"
        }
      ]
    },
    {
      "cell_type": "code",
      "metadata": {
        "id": "1PiZ-DBQ7lkp"
      },
      "source": [
        ""
      ],
      "execution_count": null,
      "outputs": []
    }
  ]
}